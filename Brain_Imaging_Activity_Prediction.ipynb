{
 "cells": [
  {
   "cell_type": "code",
   "execution_count": 120,
   "metadata": {},
   "outputs": [],
   "source": [
    "import pandas as pd\n",
    "import numpy as np\n",
    "from keras.models import Sequential\n",
    "from keras.layers import Dense, Dropout, Activation, Convolution2D, MaxPooling2D, Flatten\n",
    "from keras.optimizers import SGD, Adam\n",
    "from keras.callbacks import ModelCheckpoint\n",
    "from sklearn.model_selection import train_test_split\n",
    "from sklearn.metrics import matthews_corrcoef"
   ]
  },
  {
   "cell_type": "code",
   "execution_count": 102,
   "metadata": {
    "collapsed": true
   },
   "outputs": [],
   "source": [
    "x = np.load(\"brain_imaging/train_X.npy\")"
   ]
  },
  {
   "cell_type": "code",
   "execution_count": 103,
   "metadata": {},
   "outputs": [],
   "source": [
    "y = np.load(\"brain_imaging/train_binary_Y.npy\")"
   ]
  },
  {
   "cell_type": "code",
   "execution_count": 104,
   "metadata": {},
   "outputs": [],
   "source": [
    "x_train, x_test, y_train, y_test = train_test_split(x, y, test_size=0.2, random_state=0)"
   ]
  },
  {
   "cell_type": "code",
   "execution_count": 105,
   "metadata": {},
   "outputs": [],
   "source": [
    "x_train /= 255\n",
    "x_test /= 255"
   ]
  },
  {
   "cell_type": "code",
   "execution_count": 106,
   "metadata": {},
   "outputs": [
    {
     "name": "stderr",
     "output_type": "stream",
     "text": [
      "C:\\ProgramData\\Anaconda3\\lib\\site-packages\\ipykernel_launcher.py:11: UserWarning: Update your `Conv2D` call to the Keras 2 API: `Conv2D(64, (3, 3))`\n",
      "  # This is added back by InteractiveShellApp.init_path()\n"
     ]
    }
   ],
   "source": [
    "model = Sequential()\n",
    "model.add(Convolution2D(32, kernel_size=(3, 3),padding='same',input_shape=x_train[0].shape))\n",
    "model.add(Activation('relu'))\n",
    "model.add(Convolution2D(64, (3, 3)))\n",
    "model.add(Activation('relu'))\n",
    "model.add(MaxPooling2D(pool_size=(2, 2)))\n",
    "model.add(Dropout(0.25))\n",
    "\n",
    "model.add(Convolution2D(64,(3, 3), padding='same'))\n",
    "model.add(Activation('relu'))\n",
    "model.add(Convolution2D(64, 3, 3))\n",
    "model.add(Activation('relu'))\n",
    "model.add(MaxPooling2D(pool_size=(2, 2)))\n",
    "model.add(Dropout(0.25))\n",
    "\n",
    "model.add(Flatten())\n",
    "model.add(Dense(512))\n",
    "model.add(Activation('relu'))\n",
    "model.add(Dropout(0.5))\n",
    "model.add(Dense(y_train[0].shape[0]))\n",
    "model.add(Activation('sigmoid'))"
   ]
  },
  {
   "cell_type": "code",
   "execution_count": 107,
   "metadata": {},
   "outputs": [],
   "source": [
    "adam = Adam(lr=0.001, beta_1=0.9, beta_2=0.999, epsilon=1e-08, decay=0.0)\n",
    "model.compile(loss='binary_crossentropy', optimizer=adam, metrics=['accuracy'])"
   ]
  },
  {
   "cell_type": "code",
   "execution_count": 108,
   "metadata": {},
   "outputs": [
    {
     "name": "stderr",
     "output_type": "stream",
     "text": [
      "C:\\ProgramData\\Anaconda3\\lib\\site-packages\\keras\\models.py:939: UserWarning: The `nb_epoch` argument in `fit` has been renamed `epochs`.\n",
      "  warnings.warn('The `nb_epoch` argument in `fit` '\n"
     ]
    },
    {
     "name": "stdout",
     "output_type": "stream",
     "text": [
      "Train on 3681 samples, validate on 921 samples\n",
      "Epoch 1/20\n",
      "3680/3681 [============================>.] - ETA: 0s - loss: 0.3190 - acc: 0.8871Epoch 00001: val_acc improved from -inf to 0.89537, saving model to weights.01-0.89537.hdf5\n",
      "3681/3681 [==============================] - 74s 20ms/step - loss: 0.3190 - acc: 0.8871 - val_loss: 0.2844 - val_acc: 0.8954\n",
      "Epoch 2/20\n",
      "3680/3681 [============================>.] - ETA: 0s - loss: 0.2384 - acc: 0.9122Epoch 00002: val_acc improved from 0.89537 to 0.92531, saving model to weights.02-0.92531.hdf5\n",
      "3681/3681 [==============================] - 56s 15ms/step - loss: 0.2384 - acc: 0.9122 - val_loss: 0.2032 - val_acc: 0.9253\n",
      "Epoch 3/20\n",
      "3680/3681 [============================>.] - ETA: 0s - loss: 0.1953 - acc: 0.9265Epoch 00003: val_acc improved from 0.92531 to 0.93005, saving model to weights.03-0.93005.hdf5\n",
      "3681/3681 [==============================] - 55s 15ms/step - loss: 0.1953 - acc: 0.9265 - val_loss: 0.1815 - val_acc: 0.9301\n",
      "Epoch 4/20\n",
      "3680/3681 [============================>.] - ETA: 0s - loss: 0.1742 - acc: 0.9313Epoch 00004: val_acc improved from 0.93005 to 0.93457, saving model to weights.04-0.93457.hdf5\n",
      "3681/3681 [==============================] - 55s 15ms/step - loss: 0.1742 - acc: 0.9313 - val_loss: 0.1613 - val_acc: 0.9346\n",
      "Epoch 5/20\n",
      "3680/3681 [============================>.] - ETA: 0s - loss: 0.1540 - acc: 0.9400Epoch 00005: val_acc improved from 0.93457 to 0.94491, saving model to weights.05-0.94491.hdf5\n",
      "3681/3681 [==============================] - 55s 15ms/step - loss: 0.1539 - acc: 0.9400 - val_loss: 0.1365 - val_acc: 0.9449\n",
      "Epoch 6/20\n",
      "3680/3681 [============================>.] - ETA: 0s - loss: 0.1331 - acc: 0.9476Epoch 00006: val_acc did not improve\n",
      "3681/3681 [==============================] - 55s 15ms/step - loss: 0.1331 - acc: 0.9476 - val_loss: 0.1500 - val_acc: 0.9439\n",
      "Epoch 7/20\n",
      "3680/3681 [============================>.] - ETA: 0s - loss: 0.1244 - acc: 0.9513Epoch 00007: val_acc improved from 0.94491 to 0.95423, saving model to weights.07-0.95423.hdf5\n",
      "3681/3681 [==============================] - 56s 15ms/step - loss: 0.1244 - acc: 0.9514 - val_loss: 0.1178 - val_acc: 0.9542\n",
      "Epoch 8/20\n",
      "3680/3681 [============================>.] - ETA: 0s - loss: 0.1124 - acc: 0.9544Epoch 00008: val_acc improved from 0.95423 to 0.95491, saving model to weights.08-0.95491.hdf5\n",
      "3681/3681 [==============================] - 56s 15ms/step - loss: 0.1124 - acc: 0.9544 - val_loss: 0.1150 - val_acc: 0.9549\n",
      "Epoch 9/20\n",
      "3680/3681 [============================>.] - ETA: 0s - loss: 0.1013 - acc: 0.9600Epoch 00009: val_acc improved from 0.95491 to 0.95908, saving model to weights.09-0.95908.hdf5\n",
      "3681/3681 [==============================] - 57s 15ms/step - loss: 0.1013 - acc: 0.9600 - val_loss: 0.1057 - val_acc: 0.9591\n",
      "Epoch 10/20\n",
      "3680/3681 [============================>.] - ETA: 0s - loss: 0.0958 - acc: 0.9616Epoch 00010: val_acc improved from 0.95908 to 0.95954, saving model to weights.10-0.95954.hdf5\n",
      "3681/3681 [==============================] - 57s 15ms/step - loss: 0.0958 - acc: 0.9616 - val_loss: 0.1023 - val_acc: 0.9595\n",
      "Epoch 11/20\n",
      "3680/3681 [============================>.] - ETA: 0s - loss: 0.0898 - acc: 0.9650Epoch 00011: val_acc improved from 0.95954 to 0.96165, saving model to weights.11-0.96165.hdf5\n",
      "3681/3681 [==============================] - 58s 16ms/step - loss: 0.0898 - acc: 0.9650 - val_loss: 0.1013 - val_acc: 0.9617\n",
      "Epoch 12/20\n",
      "3680/3681 [============================>.] - ETA: 0s - loss: 0.0832 - acc: 0.9672Epoch 00012: val_acc did not improve\n",
      "3681/3681 [==============================] - 58s 16ms/step - loss: 0.0832 - acc: 0.9672 - val_loss: 0.1068 - val_acc: 0.9599\n",
      "Epoch 13/20\n",
      "3680/3681 [============================>.] - ETA: 0s - loss: 0.0774 - acc: 0.9699Epoch 00013: val_acc improved from 0.96165 to 0.96508, saving model to weights.13-0.96508.hdf5\n",
      "3681/3681 [==============================] - 55s 15ms/step - loss: 0.0774 - acc: 0.9698 - val_loss: 0.0954 - val_acc: 0.9651\n",
      "Epoch 14/20\n",
      "3680/3681 [============================>.] - ETA: 0s - loss: 0.0743 - acc: 0.9704Epoch 00014: val_acc did not improve\n",
      "3681/3681 [==============================] - 55s 15ms/step - loss: 0.0743 - acc: 0.9704 - val_loss: 0.0956 - val_acc: 0.9645\n",
      "Epoch 15/20\n",
      "3680/3681 [============================>.] - ETA: 0s - loss: 0.0667 - acc: 0.9738Epoch 00015: val_acc did not improve\n",
      "3681/3681 [==============================] - 55s 15ms/step - loss: 0.0667 - acc: 0.9738 - val_loss: 0.0963 - val_acc: 0.9646\n",
      "Epoch 16/20\n",
      "3680/3681 [============================>.] - ETA: 0s - loss: 0.0641 - acc: 0.9745Epoch 00016: val_acc improved from 0.96508 to 0.96606, saving model to weights.16-0.96606.hdf5\n",
      "3681/3681 [==============================] - 55s 15ms/step - loss: 0.0641 - acc: 0.9745 - val_loss: 0.0937 - val_acc: 0.9661\n",
      "Epoch 17/20\n",
      "3680/3681 [============================>.] - ETA: 0s - loss: 0.0591 - acc: 0.9771Epoch 00017: val_acc improved from 0.96606 to 0.96634, saving model to weights.17-0.96634.hdf5\n",
      "3681/3681 [==============================] - 55s 15ms/step - loss: 0.0590 - acc: 0.9771 - val_loss: 0.0905 - val_acc: 0.9663\n",
      "Epoch 18/20\n",
      "3680/3681 [============================>.] - ETA: 0s - loss: 0.0558 - acc: 0.9781Epoch 00018: val_acc did not improve\n",
      "3681/3681 [==============================] - 56s 15ms/step - loss: 0.0558 - acc: 0.9781 - val_loss: 0.0983 - val_acc: 0.9662\n",
      "Epoch 19/20\n",
      "3680/3681 [============================>.] - ETA: 0s - loss: 0.0533 - acc: 0.9790Epoch 00019: val_acc improved from 0.96634 to 0.96863, saving model to weights.19-0.96863.hdf5\n",
      "3681/3681 [==============================] - 55s 15ms/step - loss: 0.0532 - acc: 0.9790 - val_loss: 0.0919 - val_acc: 0.9686\n",
      "Epoch 20/20\n",
      "3680/3681 [============================>.] - ETA: 0s - loss: 0.0492 - acc: 0.9803Epoch 00020: val_acc did not improve\n",
      "3681/3681 [==============================] - 56s 15ms/step - loss: 0.0492 - acc: 0.9803 - val_loss: 0.0904 - val_acc: 0.9683\n"
     ]
    },
    {
     "data": {
      "text/plain": [
       "<keras.callbacks.History at 0x13c3211fe48>"
      ]
     },
     "execution_count": 108,
     "metadata": {},
     "output_type": "execute_result"
    }
   ],
   "source": [
    "check = ModelCheckpoint(\"weights.{epoch:02d}-{val_acc:.5f}.hdf5\", monitor='val_acc', verbose=1, save_best_only=True, save_weights_only=True, mode='auto')\n",
    "model.fit(x_train, y_train, batch_size=32, nb_epoch=20,callbacks=[check],validation_data=(x_test,y_test))\n"
   ]
  },
  {
   "cell_type": "code",
   "execution_count": 109,
   "metadata": {},
   "outputs": [
    {
     "name": "stdout",
     "output_type": "stream",
     "text": [
      "_________________________________________________________________\n",
      "Layer (type)                 Output Shape              Param #   \n",
      "=================================================================\n",
      "conv2d_51 (Conv2D)           (None, 26, 31, 32)        6656      \n",
      "_________________________________________________________________\n",
      "activation_71 (Activation)   (None, 26, 31, 32)        0         \n",
      "_________________________________________________________________\n",
      "conv2d_52 (Conv2D)           (None, 24, 29, 64)        18496     \n",
      "_________________________________________________________________\n",
      "activation_72 (Activation)   (None, 24, 29, 64)        0         \n",
      "_________________________________________________________________\n",
      "max_pooling2d_26 (MaxPooling (None, 12, 14, 64)        0         \n",
      "_________________________________________________________________\n",
      "dropout_36 (Dropout)         (None, 12, 14, 64)        0         \n",
      "_________________________________________________________________\n",
      "conv2d_53 (Conv2D)           (None, 12, 14, 64)        36928     \n",
      "_________________________________________________________________\n",
      "activation_73 (Activation)   (None, 12, 14, 64)        0         \n",
      "_________________________________________________________________\n",
      "conv2d_54 (Conv2D)           (None, 10, 12, 64)        36928     \n",
      "_________________________________________________________________\n",
      "activation_74 (Activation)   (None, 10, 12, 64)        0         \n",
      "_________________________________________________________________\n",
      "max_pooling2d_27 (MaxPooling (None, 5, 6, 64)          0         \n",
      "_________________________________________________________________\n",
      "dropout_37 (Dropout)         (None, 5, 6, 64)          0         \n",
      "_________________________________________________________________\n",
      "flatten_12 (Flatten)         (None, 1920)              0         \n",
      "_________________________________________________________________\n",
      "dense_22 (Dense)             (None, 512)               983552    \n",
      "_________________________________________________________________\n",
      "activation_75 (Activation)   (None, 512)               0         \n",
      "_________________________________________________________________\n",
      "dropout_38 (Dropout)         (None, 512)               0         \n",
      "_________________________________________________________________\n",
      "dense_23 (Dense)             (None, 19)                9747      \n",
      "_________________________________________________________________\n",
      "activation_76 (Activation)   (None, 19)                0         \n",
      "=================================================================\n",
      "Total params: 1,092,307\n",
      "Trainable params: 1,092,307\n",
      "Non-trainable params: 0\n",
      "_________________________________________________________________\n"
     ]
    }
   ],
   "source": [
    "model.summary()"
   ]
  },
  {
   "cell_type": "code",
   "execution_count": 134,
   "metadata": {},
   "outputs": [
    {
     "name": "stdout",
     "output_type": "stream",
     "text": [
      "best thresholds [ 0.3  0.2  0.1  0.3  0.2  0.7  0.8  0.7  0.5  0.5  0.4  0.3  0.6  0.1  0.6\n",
      "  0.5  0.4  0.4  0.1]\n",
      "----------------------------------------\n",
      "Matthews Correlation Coefficient\n",
      "Class wise accuracies\n",
      "[0.68609099572233068, 0.90799200799200797, 0.61535915596634483, 0.87903299939729562, 0.85508994597996535, 0.80523162479109023, 0.73364300541622374, 0.8573944957309596, 0.811870370371365, 0.62376196351752422, 0.80205631821048196, 0.75077315602288541, 0.86742905497661404, 0.93490249201948594, 0.76797909397530206, 0.95642586457477863, 0.74361219250327459, 0.93960655737704923, 0.55051538965813551]\n"
     ]
    }
   ],
   "source": [
    "xt = x_test\n",
    "yt = y_test\n",
    "out = model.predict_proba(xt)\n",
    "out = np.array(out)\n",
    "\n",
    "threshold = np.arange(0.1,0.9,0.1)\n",
    "\n",
    "acc = []\n",
    "accuracies = []\n",
    "best_threshold = np.zeros(out.shape[1])\n",
    "for i in range(out.shape[1]):\n",
    "    y_prob = np.array(out[:,i])\n",
    "    for j in threshold:\n",
    "        y_pred = [1 if prob>=j else 0 for prob in y_prob]\n",
    "        acc.append( matthews_corrcoef(yt[:,i],y_pred))\n",
    "    acc   = np.array(acc)\n",
    "    index = np.where(acc==acc.max()) \n",
    "    accuracies.append(acc.max()) \n",
    "    best_threshold[i] = threshold[index[0][0]]\n",
    "    acc = []\n",
    "\n",
    "print(\"best thresholds\", best_threshold)\n",
    "y_pred = np.array([[1 if out[i,j]>=best_threshold[j] else 0 for j in range(yt.shape[1])] for i in range(len(yt))])\n",
    "\n",
    "print(\"-\"*40)\n",
    "print(\"Matthews Correlation Coefficient\")\n",
    "print(\"Class wise accuracies\")\n",
    "print(accuracies)\n"
   ]
  },
  {
   "cell_type": "code",
   "execution_count": 147,
   "metadata": {},
   "outputs": [],
   "source": [
    "valid_x_test = np.load(\"brain_imaging/valid_test_X.npy\")"
   ]
  },
  {
   "cell_type": "code",
   "execution_count": 149,
   "metadata": {},
   "outputs": [],
   "source": [
    "pred_prob = model.predict_proba(valid_x_test)"
   ]
  },
  {
   "cell_type": "code",
   "execution_count": 151,
   "metadata": {},
   "outputs": [
    {
     "data": {
      "text/plain": [
       "array([[ 0.,  0.,  0., ...,  1.,  1.,  0.],\n",
       "       [ 0.,  0.,  0., ...,  0.,  1.,  0.],\n",
       "       [ 0.,  0.,  0., ...,  0.,  1.,  0.],\n",
       "       ..., \n",
       "       [ 0.,  0.,  0., ...,  0.,  0.,  0.],\n",
       "       [ 0.,  0.,  0., ...,  0.,  0.,  0.],\n",
       "       [ 0.,  0.,  0., ...,  0.,  0.,  0.]], dtype=float32)"
      ]
     },
     "execution_count": 151,
     "metadata": {},
     "output_type": "execute_result"
    }
   ],
   "source": [
    "pred_prob"
   ]
  },
  {
   "cell_type": "code",
   "execution_count": null,
   "metadata": {
    "collapsed": true
   },
   "outputs": [],
   "source": []
  }
 ],
 "metadata": {
  "kernelspec": {
   "display_name": "Python 3",
   "language": "python",
   "name": "python3"
  },
  "language_info": {
   "codemirror_mode": {
    "name": "ipython",
    "version": 3
   },
   "file_extension": ".py",
   "mimetype": "text/x-python",
   "name": "python",
   "nbconvert_exporter": "python",
   "pygments_lexer": "ipython3",
   "version": "3.6.3"
  }
 },
 "nbformat": 4,
 "nbformat_minor": 2
}
